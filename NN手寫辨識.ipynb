{
 "cells": [
  {
   "cell_type": "markdown",
   "metadata": {},
   "source": [
    "# NN手寫辨識"
   ]
  },
  {
   "cell_type": "code",
   "execution_count": 1,
   "metadata": {},
   "outputs": [
    {
     "name": "stdout",
     "output_type": "stream",
     "text": [
      "env: KERAS_BACKEND=tensorflow\n"
     ]
    }
   ],
   "source": [
    "# 架構keras環境\n",
    "%env KERAS_BACKEND=tensorflow"
   ]
  },
  {
   "cell_type": "code",
   "execution_count": 3,
   "metadata": {},
   "outputs": [],
   "source": [
    "# 讀入數據分析套件\n",
    "%matplotlib inline\n",
    "import numpy as np\n",
    "import matplotlib.pyplot as plt"
   ]
  },
  {
   "cell_type": "code",
   "execution_count": 8,
   "metadata": {},
   "outputs": [],
   "source": [
    "# 讀入mnist資料庫\n",
    "from keras.datasets import mnist\n",
    "(x_train,y_train), (x_test,y_test) = mnist.load_data()"
   ]
  },
  {
   "cell_type": "code",
   "execution_count": 9,
   "metadata": {},
   "outputs": [
    {
     "name": "stdout",
     "output_type": "stream",
     "text": [
      "x_train: (60000, 28, 28)\n",
      "x_test: (10000, 28, 28)\n",
      "784\n"
     ]
    }
   ],
   "source": [
    "# 輸入格式整理\n",
    "# 調整前資料形狀\n",
    "print('x_train:',x_train.shape)\n",
    "print('x_test:',x_test.shape)\n",
    "\n",
    "# 標準神經網路只接受一維，因此要改形狀\n",
    "print(28*28)\n",
    "x_train = x_train.reshape(60000,784)\n",
    "x_test = x_test.reshape(10000,784)"
   ]
  },
  {
   "cell_type": "code",
   "execution_count": 10,
   "metadata": {},
   "outputs": [
    {
     "name": "stdout",
     "output_type": "stream",
     "text": [
      "x_train: (60000, 784)\n",
      "x_test: (10000, 784)\n"
     ]
    }
   ],
   "source": [
    "# 調整後資料形狀\n",
    "print('x_train:',x_train.shape)\n",
    "print('x_test:',x_test.shape)"
   ]
  },
  {
   "cell_type": "code",
   "execution_count": 12,
   "metadata": {},
   "outputs": [],
   "source": [
    "# 輸出格式調整\n",
    "# 改成one-hot encoding格式\n",
    "from keras.utils import np_utils\n",
    "y_train = np_utils.to_categorical(y_train,10)\n",
    "y_test = np_utils.to_categorical(y_test,10)"
   ]
  },
  {
   "cell_type": "code",
   "execution_count": 13,
   "metadata": {},
   "outputs": [],
   "source": [
    "# 決定神經網路架構\n",
    "# 讀入相關套件\n",
    "from keras.models import Sequential\n",
    "from keras.layers import Dense, Activation\n",
    "from keras.optimizers import SGD"
   ]
  },
  {
   "cell_type": "code",
   "execution_count": 15,
   "metadata": {},
   "outputs": [],
   "source": [
    "# 開啟空的神經網路\n",
    "model = Sequential()\n",
    "\n",
    "# 第一層\n",
    "# 要手動輸入input_dim\n",
    "model.add(Dense(500,input_dim=784))\n",
    "model.add(Activation('sigmoid'))\n",
    "\n",
    "# 第二層\n",
    "model.add(Dense(500))\n",
    "model.add(Activation('sigmoid'))\n",
    "\n",
    "# 最後一層\n",
    "model.add(Dense(10))\n",
    "model.add(Activation('softmax'))"
   ]
  },
  {
   "cell_type": "code",
   "execution_count": 17,
   "metadata": {},
   "outputs": [],
   "source": [
    "# 組裝\n",
    "# metrics=['accuracy']是方便檢視準確度\n",
    "model.compile(loss='mse',\n",
    "             optimizer=SGD(lr=0.1),\n",
    "             metrics=['accuracy'])"
   ]
  },
  {
   "cell_type": "code",
   "execution_count": 18,
   "metadata": {},
   "outputs": [
    {
     "name": "stdout",
     "output_type": "stream",
     "text": [
      "Model: \"sequential_1\"\n",
      "_________________________________________________________________\n",
      "Layer (type)                 Output Shape              Param #   \n",
      "=================================================================\n",
      "dense_1 (Dense)              (None, 500)               392500    \n",
      "_________________________________________________________________\n",
      "activation (Activation)      (None, 500)               0         \n",
      "_________________________________________________________________\n",
      "dense_2 (Dense)              (None, 500)               250500    \n",
      "_________________________________________________________________\n",
      "activation_1 (Activation)    (None, 500)               0         \n",
      "_________________________________________________________________\n",
      "dense_3 (Dense)              (None, 10)                5010      \n",
      "_________________________________________________________________\n",
      "activation_2 (Activation)    (None, 10)                0         \n",
      "=================================================================\n",
      "Total params: 648,010\n",
      "Trainable params: 648,010\n",
      "Non-trainable params: 0\n",
      "_________________________________________________________________\n"
     ]
    }
   ],
   "source": [
    "# 檢視成果\n",
    "model.summary()"
   ]
  },
  {
   "cell_type": "code",
   "execution_count": 19,
   "metadata": {},
   "outputs": [
    {
     "name": "stdout",
     "output_type": "stream",
     "text": [
      "Epoch 1/20\n",
      "600/600 [==============================] - 2s 4ms/step - loss: 0.0840 - accuracy: 0.3266\n",
      "Epoch 2/20\n",
      "600/600 [==============================] - 2s 4ms/step - loss: 0.0642 - accuracy: 0.6134\n",
      "Epoch 3/20\n",
      "600/600 [==============================] - 2s 4ms/step - loss: 0.0462 - accuracy: 0.7545\n",
      "Epoch 4/20\n",
      "600/600 [==============================] - 2s 4ms/step - loss: 0.0342 - accuracy: 0.8200\n",
      "Epoch 5/20\n",
      "600/600 [==============================] - 2s 4ms/step - loss: 0.0268 - accuracy: 0.8648\n",
      "Epoch 6/20\n",
      "600/600 [==============================] - 3s 4ms/step - loss: 0.0222 - accuracy: 0.8849\n",
      "Epoch 7/20\n",
      "600/600 [==============================] - 2s 4ms/step - loss: 0.0192 - accuracy: 0.8961\n",
      "Epoch 8/20\n",
      "600/600 [==============================] - 3s 4ms/step - loss: 0.0173 - accuracy: 0.9042\n",
      "Epoch 9/20\n",
      "600/600 [==============================] - 3s 4ms/step - loss: 0.0158 - accuracy: 0.9095\n",
      "Epoch 10/20\n",
      "600/600 [==============================] - 3s 4ms/step - loss: 0.0148 - accuracy: 0.9151\n",
      "Epoch 11/20\n",
      "600/600 [==============================] - 3s 4ms/step - loss: 0.0138 - accuracy: 0.9195\n",
      "Epoch 12/20\n",
      "600/600 [==============================] - 3s 5ms/step - loss: 0.0131 - accuracy: 0.9232\n",
      "Epoch 13/20\n",
      "600/600 [==============================] - 3s 5ms/step - loss: 0.0124 - accuracy: 0.9266\n",
      "Epoch 14/20\n",
      "600/600 [==============================] - 3s 4ms/step - loss: 0.0119 - accuracy: 0.9294\n",
      "Epoch 15/20\n",
      "600/600 [==============================] - 3s 5ms/step - loss: 0.0114 - accuracy: 0.9326\n",
      "Epoch 16/20\n",
      "600/600 [==============================] - 3s 4ms/step - loss: 0.0110 - accuracy: 0.9358\n",
      "Epoch 17/20\n",
      "600/600 [==============================] - 3s 4ms/step - loss: 0.0106 - accuracy: 0.9378\n",
      "Epoch 18/20\n",
      "600/600 [==============================] - 3s 4ms/step - loss: 0.0102 - accuracy: 0.9404\n",
      "Epoch 19/20\n",
      "600/600 [==============================] - 3s 4ms/step - loss: 0.0099 - accuracy: 0.9418\n",
      "Epoch 20/20\n",
      "600/600 [==============================] - 3s 4ms/step - loss: 0.0095 - accuracy: 0.9444\n"
     ]
    },
    {
     "data": {
      "text/plain": [
       "<tensorflow.python.keras.callbacks.History at 0x7fd455ad6b50>"
      ]
     },
     "execution_count": 19,
     "metadata": {},
     "output_type": "execute_result"
    }
   ],
   "source": [
    "# 訓練神經網路\n",
    "model.fit(x_train, y_train, batch_size=100, epochs=20)"
   ]
  },
  {
   "cell_type": "code",
   "execution_count": 20,
   "metadata": {},
   "outputs": [
    {
     "name": "stdout",
     "output_type": "stream",
     "text": [
      "313/313 [==============================] - 1s 2ms/step - loss: 0.0107 - accuracy: 0.9339\n",
      "loss: 0.01067605335265398\n",
      "accuracy: 0.933899998664856\n"
     ]
    }
   ],
   "source": [
    "# 檢視成果\n",
    "score = model.evaluate(x_test, y_test)\n",
    "print('loss:',score[0])\n",
    "print('accuracy:',score[1])"
   ]
  },
  {
   "cell_type": "code",
   "execution_count": 21,
   "metadata": {},
   "outputs": [],
   "source": [
    "# 用互動式介面試用結果\n",
    "from ipywidgets import interact_manual"
   ]
  },
  {
   "cell_type": "code",
   "execution_count": 25,
   "metadata": {},
   "outputs": [],
   "source": [
    "# 用訓練過的模型進行判讀預測\n",
    "predict = model.predict_classes(x_test)\n",
    "\n",
    "# 寫一個畫出題目與模型判讀結果的函數\n",
    "def test(num):\n",
    "    plt.imshow(x_test[num].reshape(28,28),cmap='Greys')\n",
    "    print('神經網路判斷為:',predict[num])"
   ]
  },
  {
   "cell_type": "code",
   "execution_count": 26,
   "metadata": {},
   "outputs": [
    {
     "data": {
      "application/vnd.jupyter.widget-view+json": {
       "model_id": "6c038ea51d4c4d5ebd14ac587c89fa3d",
       "version_major": 2,
       "version_minor": 0
      },
      "text/plain": [
       "interactive(children=(IntSlider(value=4999, description='num', max=9999), Button(description='Run Interact', s…"
      ]
     },
     "metadata": {},
     "output_type": "display_data"
    },
    {
     "data": {
      "text/plain": [
       "<function __main__.test(num)>"
      ]
     },
     "execution_count": 26,
     "metadata": {},
     "output_type": "execute_result"
    }
   ],
   "source": [
    "# 用互動套件配合test函數測試結果\n",
    "interact_manual(test, num=(0,9999))"
   ]
  },
  {
   "cell_type": "code",
   "execution_count": 27,
   "metadata": {},
   "outputs": [],
   "source": [
    "# 儲存\n",
    "model.json = model.to_json()\n",
    "open('handwriting_model_nn.json','w').write(model.json)\n",
    "\n",
    "# 儲存權重\n",
    "model.save_weights('handwriting_model_weights.h5')"
   ]
  },
  {
   "cell_type": "code",
   "execution_count": null,
   "metadata": {},
   "outputs": [],
   "source": []
  }
 ],
 "metadata": {
  "kernelspec": {
   "display_name": "Python 3",
   "language": "python",
   "name": "python3"
  },
  "language_info": {
   "codemirror_mode": {
    "name": "ipython",
    "version": 3
   },
   "file_extension": ".py",
   "mimetype": "text/x-python",
   "name": "python",
   "nbconvert_exporter": "python",
   "pygments_lexer": "ipython3",
   "version": "3.7.6"
  }
 },
 "nbformat": 4,
 "nbformat_minor": 4
}
